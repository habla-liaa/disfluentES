{
 "cells": [
  {
   "cell_type": "code",
   "execution_count": 4,
   "metadata": {},
   "outputs": [
    {
     "name": "stdout",
     "output_type": "stream",
     "text": [
      "Original word: corren\n",
      "Original morphology: Mood=Ind|Number=Plur|Person=3|Tense=Pres|VerbForm=Fin\n"
     ]
    },
    {
     "ename": "AttributeError",
     "evalue": "'spacy.morphology.Morphology' object has no attribute 'assign_tag'",
     "output_type": "error",
     "traceback": [
      "\u001b[0;31m---------------------------------------------------------------------------\u001b[0m",
      "\u001b[0;31mAttributeError\u001b[0m                            Traceback (most recent call last)",
      "Cell \u001b[0;32mIn[4], line 20\u001b[0m\n\u001b[1;32m     17\u001b[0m \u001b[38;5;28mprint\u001b[39m(\u001b[38;5;124mf\u001b[39m\u001b[38;5;124m\"\u001b[39m\u001b[38;5;124mOriginal morphology: \u001b[39m\u001b[38;5;132;01m{\u001b[39;00mtoken\u001b[38;5;241m.\u001b[39mmorph\u001b[38;5;132;01m}\u001b[39;00m\u001b[38;5;124m\"\u001b[39m)\n\u001b[1;32m     19\u001b[0m \u001b[38;5;66;03m# Change number from Plur to Sing\u001b[39;00m\n\u001b[0;32m---> 20\u001b[0m new_word \u001b[38;5;241m=\u001b[39m \u001b[43mchange_morph_feature\u001b[49m\u001b[43m(\u001b[49m\u001b[43mtoken\u001b[49m\u001b[43m,\u001b[49m\u001b[43m \u001b[49m\u001b[38;5;124;43m\"\u001b[39;49m\u001b[38;5;124;43mNumber\u001b[39;49m\u001b[38;5;124;43m\"\u001b[39;49m\u001b[43m,\u001b[49m\u001b[43m \u001b[49m\u001b[38;5;124;43m\"\u001b[39;49m\u001b[38;5;124;43mSing\u001b[39;49m\u001b[38;5;124;43m\"\u001b[39;49m\u001b[43m)\u001b[49m\n\u001b[1;32m     22\u001b[0m \u001b[38;5;28mprint\u001b[39m(\u001b[38;5;124mf\u001b[39m\u001b[38;5;124m\"\u001b[39m\u001b[38;5;130;01m\\n\u001b[39;00m\u001b[38;5;124mNew word: \u001b[39m\u001b[38;5;132;01m{\u001b[39;00mnew_word\u001b[38;5;132;01m}\u001b[39;00m\u001b[38;5;124m\"\u001b[39m)\n",
      "Cell \u001b[0;32mIn[4], line 12\u001b[0m, in \u001b[0;36mchange_morph_feature\u001b[0;34m(token, feature, new_value)\u001b[0m\n\u001b[1;32m     10\u001b[0m morph[feature] \u001b[38;5;241m=\u001b[39m new_value\n\u001b[1;32m     11\u001b[0m morph_string \u001b[38;5;241m=\u001b[39m \u001b[38;5;124m'\u001b[39m\u001b[38;5;124m|\u001b[39m\u001b[38;5;124m'\u001b[39m\u001b[38;5;241m.\u001b[39mjoin(\u001b[38;5;124mf\u001b[39m\u001b[38;5;124m'\u001b[39m\u001b[38;5;132;01m{\u001b[39;00mk\u001b[38;5;132;01m}\u001b[39;00m\u001b[38;5;124m=\u001b[39m\u001b[38;5;132;01m{\u001b[39;00mv\u001b[38;5;132;01m}\u001b[39;00m\u001b[38;5;124m'\u001b[39m \u001b[38;5;28;01mfor\u001b[39;00m k, v \u001b[38;5;129;01min\u001b[39;00m morph\u001b[38;5;241m.\u001b[39mitems())\n\u001b[0;32m---> 12\u001b[0m new_form \u001b[38;5;241m=\u001b[39m \u001b[43mtoken\u001b[49m\u001b[38;5;241;43m.\u001b[39;49m\u001b[43mdoc\u001b[49m\u001b[38;5;241;43m.\u001b[39;49m\u001b[43mvocab\u001b[49m\u001b[38;5;241;43m.\u001b[39;49m\u001b[43mmorphology\u001b[49m\u001b[38;5;241;43m.\u001b[39;49m\u001b[43massign_tag\u001b[49m(token\u001b[38;5;241m.\u001b[39mlemma_, token\u001b[38;5;241m.\u001b[39mpos_, morph_string)\n\u001b[1;32m     13\u001b[0m \u001b[38;5;28;01mreturn\u001b[39;00m new_form\n",
      "\u001b[0;31mAttributeError\u001b[0m: 'spacy.morphology.Morphology' object has no attribute 'assign_tag'"
     ]
    }
   ],
   "source": [
    "import spacy\n",
    "\n",
    "nlp = spacy.load(\"es_core_news_lg\")\n",
    "\n",
    "doc = nlp(\"corren\")\n",
    "token = doc[0]\n",
    "\n",
    "def change_morph_feature(token, feature, new_value):\n",
    "   morph = token.morph.to_dict()\n",
    "   morph[feature] = new_value\n",
    "   morph_string = '|'.join(f'{k}={v}' for k, v in morph.items())\n",
    "   new_form = token.doc.vocab.morphology.assign_tag(token.lemma_, token.pos_, morph_string)\n",
    "   return new_form\n",
    "\n",
    "# Print original morphology\n",
    "print(f\"Original word: {token.text}\")\n",
    "print(f\"Original morphology: {token.morph}\")\n",
    "\n",
    "# Change number from Plur to Sing\n",
    "new_word = change_morph_feature(token, \"Number\", \"Sing\")\n",
    "\n",
    "print(f\"\\nNew word: {new_word}\")"
   ]
  },
  {
   "cell_type": "code",
   "execution_count": 6,
   "metadata": {},
   "outputs": [
    {
     "name": "stdout",
     "output_type": "stream",
     "text": [
      "Original: corren Mood=Ind|Number=Plur|Person=3|Tense=Pres|VerbForm=Fin\n"
     ]
    },
    {
     "ename": "AttributeError",
     "evalue": "'spacy.morphology.Morphology' object has no attribute 'lemmatizer'",
     "output_type": "error",
     "traceback": [
      "\u001b[0;31m---------------------------------------------------------------------------\u001b[0m",
      "\u001b[0;31mAttributeError\u001b[0m                            Traceback (most recent call last)",
      "Cell \u001b[0;32mIn[6], line 12\u001b[0m\n\u001b[1;32m      9\u001b[0m \u001b[38;5;28mprint\u001b[39m(\u001b[38;5;124mf\u001b[39m\u001b[38;5;124m\"\u001b[39m\u001b[38;5;124mOriginal: \u001b[39m\u001b[38;5;132;01m{\u001b[39;00mtoken\u001b[38;5;241m.\u001b[39mtext\u001b[38;5;132;01m}\u001b[39;00m\u001b[38;5;124m \u001b[39m\u001b[38;5;132;01m{\u001b[39;00mtoken\u001b[38;5;241m.\u001b[39mmorph\u001b[38;5;132;01m}\u001b[39;00m\u001b[38;5;124m\"\u001b[39m)\n\u001b[1;32m     11\u001b[0m \u001b[38;5;66;03m# Get inflection table for this lemma\u001b[39;00m\n\u001b[0;32m---> 12\u001b[0m verb_forms \u001b[38;5;241m=\u001b[39m \u001b[43mtoken\u001b[49m\u001b[38;5;241;43m.\u001b[39;49m\u001b[43mdoc\u001b[49m\u001b[38;5;241;43m.\u001b[39;49m\u001b[43mvocab\u001b[49m\u001b[38;5;241;43m.\u001b[39;49m\u001b[43mmorphology\u001b[49m\u001b[38;5;241;43m.\u001b[39;49m\u001b[43mlemmatizer\u001b[49m\u001b[38;5;241m.\u001b[39mlookup_table\u001b[38;5;241m.\u001b[39mget((VERB, token\u001b[38;5;241m.\u001b[39mlemma_))\n\u001b[1;32m     13\u001b[0m \u001b[38;5;28;01mif\u001b[39;00m verb_forms:\n\u001b[1;32m     14\u001b[0m     \u001b[38;5;66;03m# Find form with same features but different number\u001b[39;00m\n\u001b[1;32m     15\u001b[0m     morph \u001b[38;5;241m=\u001b[39m token\u001b[38;5;241m.\u001b[39mmorph\u001b[38;5;241m.\u001b[39mto_dict()\n",
      "\u001b[0;31mAttributeError\u001b[0m: 'spacy.morphology.Morphology' object has no attribute 'lemmatizer'"
     ]
    }
   ],
   "source": [
    "import spacy\n",
    "from spacy.symbols import VERB\n",
    "\n",
    "nlp = spacy.load(\"es_core_news_lg\")\n",
    "doc = nlp(\"corren\")\n",
    "token = doc[0]\n",
    "\n",
    "# Print original info\n",
    "print(f\"Original: {token.text} {token.morph}\")\n",
    "\n",
    "# Get inflection table for this lemma\n",
    "verb_forms = token.doc.vocab.morphology.lemmatizer.lookup_table.get((VERB, token.lemma_))\n",
    "if verb_forms:\n",
    "    # Find form with same features but different number\n",
    "    morph = token.morph.to_dict()\n",
    "    morph[\"Number\"] = \"Sing\"  # Change desired feature\n",
    "    target_morph = '|'.join(f'{k}={v}' for k, v in morph.items())\n",
    "    \n",
    "    for form in verb_forms:\n",
    "        if token.doc.vocab.strings[form[1]] == target_morph:\n",
    "            new_word = token.doc.vocab.strings[form[0]]\n",
    "            print(f\"New: {new_word} {target_morph}\")\n",
    "            break"
   ]
  },
  {
   "cell_type": "code",
   "execution_count": 7,
   "metadata": {},
   "outputs": [
    {
     "ename": "TypeError",
     "evalue": "Cannot convert spacy.tokens.token.Token to spacy.tokens.doc.Doc",
     "output_type": "error",
     "traceback": [
      "\u001b[0;31m---------------------------------------------------------------------------\u001b[0m",
      "\u001b[0;31mTypeError\u001b[0m                                 Traceback (most recent call last)",
      "Cell \u001b[0;32mIn[7], line 19\u001b[0m\n\u001b[1;32m     16\u001b[0m morph[\u001b[38;5;124m\"\u001b[39m\u001b[38;5;124mNumber\u001b[39m\u001b[38;5;124m\"\u001b[39m] \u001b[38;5;241m=\u001b[39m \u001b[38;5;124m\"\u001b[39m\u001b[38;5;124mSing\u001b[39m\u001b[38;5;124m\"\u001b[39m\n\u001b[1;32m     18\u001b[0m \u001b[38;5;66;03m# Apply morphology\u001b[39;00m\n\u001b[0;32m---> 19\u001b[0m \u001b[43mmorphologizer\u001b[49m\u001b[38;5;241;43m.\u001b[39;49m\u001b[43mset_annotations\u001b[49m\u001b[43m(\u001b[49m\u001b[43m[\u001b[49m\u001b[43mnew_token\u001b[49m\u001b[43m]\u001b[49m\u001b[43m,\u001b[49m\u001b[43m \u001b[49m\u001b[43m{\u001b[49m\u001b[38;5;124;43m\"\u001b[39;49m\u001b[38;5;124;43mmorph\u001b[39;49m\u001b[38;5;124;43m\"\u001b[39;49m\u001b[43m:\u001b[49m\u001b[43m \u001b[49m\u001b[43m[\u001b[49m\u001b[43mmorph\u001b[49m\u001b[43m]\u001b[49m\u001b[43m}\u001b[49m\u001b[43m)\u001b[49m\n\u001b[1;32m     21\u001b[0m \u001b[38;5;28mprint\u001b[39m(\u001b[38;5;124mf\u001b[39m\u001b[38;5;124m\"\u001b[39m\u001b[38;5;124mOriginal: \u001b[39m\u001b[38;5;132;01m{\u001b[39;00mtoken\u001b[38;5;241m.\u001b[39mtext\u001b[38;5;132;01m}\u001b[39;00m\u001b[38;5;124m \u001b[39m\u001b[38;5;132;01m{\u001b[39;00mtoken\u001b[38;5;241m.\u001b[39mmorph\u001b[38;5;132;01m}\u001b[39;00m\u001b[38;5;124m\"\u001b[39m)\n\u001b[1;32m     22\u001b[0m \u001b[38;5;28mprint\u001b[39m(\u001b[38;5;124mf\u001b[39m\u001b[38;5;124m\"\u001b[39m\u001b[38;5;124mNew: \u001b[39m\u001b[38;5;132;01m{\u001b[39;00mnew_token\u001b[38;5;241m.\u001b[39mtext\u001b[38;5;132;01m}\u001b[39;00m\u001b[38;5;124m \u001b[39m\u001b[38;5;132;01m{\u001b[39;00mnew_token\u001b[38;5;241m.\u001b[39mmorph\u001b[38;5;132;01m}\u001b[39;00m\u001b[38;5;124m\"\u001b[39m)\n",
      "File \u001b[0;32m~/miniconda3/lib/python3.11/site-packages/spacy/pipeline/morphologizer.pyx:239\u001b[0m, in \u001b[0;36mspacy.pipeline.morphologizer.Morphologizer.set_annotations\u001b[0;34m()\u001b[0m\n",
      "\u001b[0;31mTypeError\u001b[0m: Cannot convert spacy.tokens.token.Token to spacy.tokens.doc.Doc"
     ]
    }
   ],
   "source": [
    "import spacy\n",
    "\n",
    "nlp = spacy.load(\"es_core_news_lg\")\n",
    "doc = nlp(\"corren\")\n",
    "token = doc[0]\n",
    "\n",
    "# Get morphologizer\n",
    "morphologizer = nlp.get_pipe(\"morphologizer\")\n",
    "\n",
    "# Create new doc with lemma\n",
    "new_doc = nlp(token.lemma_)\n",
    "new_token = new_doc[0]\n",
    "\n",
    "# Set target morphology\n",
    "morph = token.morph.to_dict()\n",
    "morph[\"Number\"] = \"Sing\"\n",
    "\n",
    "# Apply morphology\n",
    "morphologizer.set_annotations([new_token], {\"morph\": [morph]})\n",
    "\n",
    "print(f\"Original: {token.text} {token.morph}\")\n",
    "print(f\"New: {new_token.text} {new_token.morph}\")"
   ]
  },
  {
   "cell_type": "code",
   "execution_count": 10,
   "metadata": {},
   "outputs": [
    {
     "name": "stdout",
     "output_type": "stream",
     "text": [
      "Original: corren Mood=Ind|Number=Plur|Person=3|Tense=Pres|VerbForm=Fin\n"
     ]
    },
    {
     "ename": "KeyError",
     "evalue": "'Presente'",
     "output_type": "error",
     "traceback": [
      "\u001b[0;31m---------------------------------------------------------------------------\u001b[0m",
      "\u001b[0;31mKeyError\u001b[0m                                  Traceback (most recent call last)",
      "Cell \u001b[0;32mIn[10], line 33\u001b[0m\n\u001b[1;32m     30\u001b[0m token \u001b[38;5;241m=\u001b[39m doc[\u001b[38;5;241m0\u001b[39m]\n\u001b[1;32m     32\u001b[0m \u001b[38;5;28mprint\u001b[39m(\u001b[38;5;124mf\u001b[39m\u001b[38;5;124m\"\u001b[39m\u001b[38;5;124mOriginal: \u001b[39m\u001b[38;5;132;01m{\u001b[39;00mtoken\u001b[38;5;241m.\u001b[39mtext\u001b[38;5;132;01m}\u001b[39;00m\u001b[38;5;124m \u001b[39m\u001b[38;5;132;01m{\u001b[39;00mtoken\u001b[38;5;241m.\u001b[39mmorph\u001b[38;5;132;01m}\u001b[39;00m\u001b[38;5;124m\"\u001b[39m)\n\u001b[0;32m---> 33\u001b[0m new_form \u001b[38;5;241m=\u001b[39m \u001b[43mchange_verb_number\u001b[49m\u001b[43m(\u001b[49m\u001b[43mtoken\u001b[49m\u001b[43m)\u001b[49m\n\u001b[1;32m     34\u001b[0m \u001b[38;5;28mprint\u001b[39m(\u001b[38;5;124mf\u001b[39m\u001b[38;5;124m\"\u001b[39m\u001b[38;5;124mNew form: \u001b[39m\u001b[38;5;132;01m{\u001b[39;00mnew_form\u001b[38;5;132;01m}\u001b[39;00m\u001b[38;5;124m\"\u001b[39m)\n",
      "Cell \u001b[0;32mIn[10], line 19\u001b[0m, in \u001b[0;36mchange_verb_number\u001b[0;34m(verb_token)\u001b[0m\n\u001b[1;32m     16\u001b[0m tense \u001b[38;5;241m=\u001b[39m tense_map[morph\u001b[38;5;241m.\u001b[39mget(\u001b[38;5;124m\"\u001b[39m\u001b[38;5;124mTense\u001b[39m\u001b[38;5;124m\"\u001b[39m, \u001b[38;5;124m\"\u001b[39m\u001b[38;5;124mPres\u001b[39m\u001b[38;5;124m\"\u001b[39m)]\n\u001b[1;32m     17\u001b[0m person \u001b[38;5;241m=\u001b[39m morph\u001b[38;5;241m.\u001b[39mget(\u001b[38;5;124m\"\u001b[39m\u001b[38;5;124mPerson\u001b[39m\u001b[38;5;124m\"\u001b[39m, \u001b[38;5;124m\"\u001b[39m\u001b[38;5;124m3\u001b[39m\u001b[38;5;124m\"\u001b[39m)\n\u001b[0;32m---> 19\u001b[0m tense_forms \u001b[38;5;241m=\u001b[39m \u001b[43mverb\u001b[49m\u001b[38;5;241;43m.\u001b[39;49m\u001b[43mconjug_info\u001b[49m\u001b[43m[\u001b[49m\u001b[43mmood\u001b[49m\u001b[43m]\u001b[49m\u001b[43m[\u001b[49m\u001b[43mtense\u001b[49m\u001b[43m]\u001b[49m\n\u001b[1;32m     21\u001b[0m \u001b[38;5;28;01mif\u001b[39;00m morph\u001b[38;5;241m.\u001b[39mget(\u001b[38;5;124m\"\u001b[39m\u001b[38;5;124mNumber\u001b[39m\u001b[38;5;124m\"\u001b[39m) \u001b[38;5;241m==\u001b[39m \u001b[38;5;124m\"\u001b[39m\u001b[38;5;124mPlur\u001b[39m\u001b[38;5;124m\"\u001b[39m:\n\u001b[1;32m     22\u001b[0m     new_form \u001b[38;5;241m=\u001b[39m tense_forms[\u001b[38;5;124mf\u001b[39m\u001b[38;5;124m\"\u001b[39m\u001b[38;5;132;01m{\u001b[39;00mperson\u001b[38;5;132;01m}\u001b[39;00m\u001b[38;5;124ms\u001b[39m\u001b[38;5;124m\"\u001b[39m]\n",
      "\u001b[0;31mKeyError\u001b[0m: 'Presente'"
     ]
    }
   ],
   "source": [
    "import spacy\n",
    "from mlconjug3 import Conjugator\n",
    "\n",
    "nlp = spacy.load(\"es_core_news_lg\")\n",
    "conjugator = Conjugator(language='es')\n",
    "\n",
    "def change_verb_number(verb_token):\n",
    "   morph = verb_token.morph.to_dict()\n",
    "   verb = conjugator.conjugate(verb_token.lemma_)\n",
    "   \n",
    "   # Map spaCy mood/tense to mlconjug3 format\n",
    "   mood_map = {\"Ind\": \"Indicativo\", \"Sub\": \"Subjuntivo\", \"Imp\": \"Imperativo\"}\n",
    "   tense_map = {\"Pres\": \"Presente\", \"Past\": \"Pretérito\", \"Imp\": \"Imperfecto\"}\n",
    "   \n",
    "   mood = mood_map[morph.get(\"Mood\", \"Ind\")]\n",
    "   tense = tense_map[morph.get(\"Tense\", \"Pres\")]\n",
    "   person = morph.get(\"Person\", \"3\")\n",
    "   \n",
    "   tense_forms = verb.conjug_info[mood][tense]\n",
    "   \n",
    "   if morph.get(\"Number\") == \"Plur\":\n",
    "       new_form = tense_forms[f\"{person}s\"]\n",
    "   else:\n",
    "       new_form = tense_forms[f\"{person}p\"]\n",
    "       \n",
    "   return new_form\n",
    "\n",
    "# Test\n",
    "doc = nlp(\"corren\")\n",
    "token = doc[0]\n",
    "\n",
    "print(f\"Original: {token.text} {token.morph}\")\n",
    "new_form = change_verb_number(token)\n",
    "print(f\"New form: {new_form}\")"
   ]
  },
  {
   "cell_type": "code",
   "execution_count": 16,
   "metadata": {},
   "outputs": [
    {
     "name": "stdout",
     "output_type": "stream",
     "text": [
      "Original: corren Mood=Ind|Number=Plur|Person=3|Tense=Pres|VerbForm=Fin\n"
     ]
    },
    {
     "data": {
      "text/plain": [
       "mlconjug3.verbs.verbs.VerbEs(correr)"
      ]
     },
     "execution_count": 16,
     "metadata": {},
     "output_type": "execute_result"
    }
   ],
   "source": [
    "import spacy\n",
    "from mlconjug3 import Conjugator\n",
    "\n",
    "nlp = spacy.load(\"es_core_news_lg\")\n",
    "conjugator = Conjugator(language='es')\n",
    "\n",
    "def change_verb_number(verb_token):\n",
    "   morph = verb_token.morph.to_dict()\n",
    "   verb = conjugator.conjugate(verb_token.lemma_)\n",
    "   \n",
    "   # Print conjugation table to see actual structure\n",
    "   #print(\"Conjugation info:\")\n",
    "   #for mood, tenses in verb.conjug_info.items():\n",
    "       #print(f\"\\n{mood}:\")\n",
    "       #for tense, forms in tenses.items():\n",
    "           #print(f\"  {tense}: {forms}\")\n",
    "\n",
    "   # For debugging\n",
    "   #print(f\"\\nMorphology: {morph}\")\n",
    "   \n",
    "   return verb  # Temporary return for debugging\n",
    "\n",
    "# Test\n",
    "doc = nlp(\"corren\")\n",
    "token = doc[0]\n",
    "\n",
    "print(f\"Original: {token.text} {token.morph}\")\n",
    "change_verb_number(token)"
   ]
  },
  {
   "cell_type": "code",
   "execution_count": 15,
   "metadata": {},
   "outputs": [],
   "source": [
    "change_verb_number(token)"
   ]
  },
  {
   "cell_type": "code",
   "execution_count": null,
   "metadata": {},
   "outputs": [],
   "source": []
  }
 ],
 "metadata": {
  "kernelspec": {
   "display_name": "base",
   "language": "python",
   "name": "python3"
  },
  "language_info": {
   "codemirror_mode": {
    "name": "ipython",
    "version": 3
   },
   "file_extension": ".py",
   "mimetype": "text/x-python",
   "name": "python",
   "nbconvert_exporter": "python",
   "pygments_lexer": "ipython3",
   "version": "3.11.4"
  }
 },
 "nbformat": 4,
 "nbformat_minor": 2
}
